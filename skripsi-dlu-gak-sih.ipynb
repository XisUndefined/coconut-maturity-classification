{
 "cells": [
  {
   "cell_type": "code",
   "execution_count": 1,
   "metadata": {},
   "outputs": [],
   "source": [
    "import os"
   ]
  },
  {
   "cell_type": "code",
   "execution_count": 2,
   "metadata": {},
   "outputs": [],
   "source": [
    "def mp3Converter(directory: str):\n",
    "    os.chdir(rf\"{directory}\")\n",
    "    listFile = os.listdir()\n",
    "    for file in listFile:\n",
    "        print(file)"
   ]
  },
  {
   "cell_type": "code",
   "execution_count": 3,
   "metadata": {},
   "outputs": [
    {
     "name": "stdout",
     "output_type": "stream",
     "text": [
      "D:\\Cool Yeah\\Semester 118\\Sample-kelapa\\data\\muda\n"
     ]
    }
   ],
   "source": [
    "directory = input(\"Enter Directory\\t\\t\\t: \")\n",
    "print(directory)"
   ]
  },
  {
   "cell_type": "code",
   "execution_count": 6,
   "metadata": {},
   "outputs": [
    {
     "name": "stdout",
     "output_type": "stream",
     "text": [
      "0\n"
     ]
    }
   ],
   "source": [
    "print(os.system(\"cd\"))"
   ]
  },
  {
   "cell_type": "code",
   "execution_count": 8,
   "metadata": {},
   "outputs": [],
   "source": [
    "directory = input(\"Enter Directory\\t\\t\\t: \")\n",
    "os.chdir(rf\"{directory}\")"
   ]
  },
  {
   "cell_type": "code",
   "execution_count": 61,
   "metadata": {},
   "outputs": [
    {
     "data": {
      "text/plain": [
       "0"
      ]
     },
     "execution_count": 61,
     "metadata": {},
     "output_type": "execute_result"
    }
   ],
   "source": [
    "os.system(f\"ffmpeg -i mtg10_a.m4a mtg10_a.mp3\")"
   ]
  },
  {
   "cell_type": "code",
   "execution_count": 65,
   "metadata": {},
   "outputs": [
    {
     "data": {
      "text/plain": [
       "'D:\\\\Cool Yeah\\\\Semester 118\\\\Sample-kelapa\\\\raw sample\\\\Sample-kelapa-matang'"
      ]
     },
     "execution_count": 65,
     "metadata": {},
     "output_type": "execute_result"
    }
   ],
   "source": [
    "directory"
   ]
  },
  {
   "cell_type": "code",
   "execution_count": 67,
   "metadata": {},
   "outputs": [
    {
     "data": {
      "text/plain": [
       "True"
      ]
     },
     "execution_count": 67,
     "metadata": {},
     "output_type": "execute_result"
    }
   ],
   "source": [
    "os.path.exists(directory)"
   ]
  },
  {
   "cell_type": "code",
   "execution_count": 66,
   "metadata": {},
   "outputs": [],
   "source": [
    "oldPath = directory\n",
    "newPath = os.path.join(directory, \"mp3\")\n",
    "filename = \"mtg10_a.mp3\"\n",
    "os.rename(os.path.join(oldPath, filename), os.path.join(newPath, filename))"
   ]
  },
  {
   "cell_type": "code",
   "execution_count": 7,
   "metadata": {},
   "outputs": [
    {
     "name": "stdout",
     "output_type": "stream",
     "text": [
      "converting muda10a.m4a at : D:\\Cool Yeah\\Semester 118\\Sample-kelapa\\data\\muda\\mp3\\muda10a.mp3\n",
      "converting muda10b.m4a at : D:\\Cool Yeah\\Semester 118\\Sample-kelapa\\data\\muda\\mp3\\muda10b.mp3\n",
      "converting muda10c.m4a at : D:\\Cool Yeah\\Semester 118\\Sample-kelapa\\data\\muda\\mp3\\muda10c.mp3\n",
      "converting muda11a.m4a at : D:\\Cool Yeah\\Semester 118\\Sample-kelapa\\data\\muda\\mp3\\muda11a.mp3\n",
      "converting muda11b.m4a at : D:\\Cool Yeah\\Semester 118\\Sample-kelapa\\data\\muda\\mp3\\muda11b.mp3\n",
      "converting muda11c.m4a at : D:\\Cool Yeah\\Semester 118\\Sample-kelapa\\data\\muda\\mp3\\muda11c.mp3\n",
      "converting muda12a.m4a at : D:\\Cool Yeah\\Semester 118\\Sample-kelapa\\data\\muda\\mp3\\muda12a.mp3\n",
      "converting muda12b.m4a at : D:\\Cool Yeah\\Semester 118\\Sample-kelapa\\data\\muda\\mp3\\muda12b.mp3\n",
      "converting muda12c.m4a at : D:\\Cool Yeah\\Semester 118\\Sample-kelapa\\data\\muda\\mp3\\muda12c.mp3\n",
      "converting muda13a.m4a at : D:\\Cool Yeah\\Semester 118\\Sample-kelapa\\data\\muda\\mp3\\muda13a.mp3\n",
      "converting muda13b.m4a at : D:\\Cool Yeah\\Semester 118\\Sample-kelapa\\data\\muda\\mp3\\muda13b.mp3\n",
      "converting muda13c.m4a at : D:\\Cool Yeah\\Semester 118\\Sample-kelapa\\data\\muda\\mp3\\muda13c.mp3\n",
      "converting muda14a.m4a at : D:\\Cool Yeah\\Semester 118\\Sample-kelapa\\data\\muda\\mp3\\muda14a.mp3\n",
      "converting muda14b.m4a at : D:\\Cool Yeah\\Semester 118\\Sample-kelapa\\data\\muda\\mp3\\muda14b.mp3\n",
      "converting muda14c.m4a at : D:\\Cool Yeah\\Semester 118\\Sample-kelapa\\data\\muda\\mp3\\muda14c.mp3\n",
      "converting muda15a.m4a at : D:\\Cool Yeah\\Semester 118\\Sample-kelapa\\data\\muda\\mp3\\muda15a.mp3\n",
      "converting muda15b.m4a at : D:\\Cool Yeah\\Semester 118\\Sample-kelapa\\data\\muda\\mp3\\muda15b.mp3\n",
      "converting muda15c.m4a at : D:\\Cool Yeah\\Semester 118\\Sample-kelapa\\data\\muda\\mp3\\muda15c.mp3\n",
      "converting muda16a.m4a at : D:\\Cool Yeah\\Semester 118\\Sample-kelapa\\data\\muda\\mp3\\muda16a.mp3\n",
      "converting muda16b.m4a at : D:\\Cool Yeah\\Semester 118\\Sample-kelapa\\data\\muda\\mp3\\muda16b.mp3\n",
      "converting muda16c.m4a at : D:\\Cool Yeah\\Semester 118\\Sample-kelapa\\data\\muda\\mp3\\muda16c.mp3\n",
      "converting muda17a.m4a at : D:\\Cool Yeah\\Semester 118\\Sample-kelapa\\data\\muda\\mp3\\muda17a.mp3\n",
      "converting muda17b.m4a at : D:\\Cool Yeah\\Semester 118\\Sample-kelapa\\data\\muda\\mp3\\muda17b.mp3\n",
      "converting muda17c.m4a at : D:\\Cool Yeah\\Semester 118\\Sample-kelapa\\data\\muda\\mp3\\muda17c.mp3\n",
      "converting muda18a.m4a at : D:\\Cool Yeah\\Semester 118\\Sample-kelapa\\data\\muda\\mp3\\muda18a.mp3\n",
      "converting muda18b.m4a at : D:\\Cool Yeah\\Semester 118\\Sample-kelapa\\data\\muda\\mp3\\muda18b.mp3\n",
      "converting muda18c.m4a at : D:\\Cool Yeah\\Semester 118\\Sample-kelapa\\data\\muda\\mp3\\muda18c.mp3\n",
      "converting muda19a.m4a at : D:\\Cool Yeah\\Semester 118\\Sample-kelapa\\data\\muda\\mp3\\muda19a.mp3\n",
      "converting muda19b.m4a at : D:\\Cool Yeah\\Semester 118\\Sample-kelapa\\data\\muda\\mp3\\muda19b.mp3\n",
      "converting muda19c.m4a at : D:\\Cool Yeah\\Semester 118\\Sample-kelapa\\data\\muda\\mp3\\muda19c.mp3\n",
      "converting muda1a.m4a at : D:\\Cool Yeah\\Semester 118\\Sample-kelapa\\data\\muda\\mp3\\muda1a.mp3\n",
      "converting muda1b.m4a at : D:\\Cool Yeah\\Semester 118\\Sample-kelapa\\data\\muda\\mp3\\muda1b.mp3\n",
      "converting muda1c.m4a at : D:\\Cool Yeah\\Semester 118\\Sample-kelapa\\data\\muda\\mp3\\muda1c.mp3\n",
      "converting muda20a.m4a at : D:\\Cool Yeah\\Semester 118\\Sample-kelapa\\data\\muda\\mp3\\muda20a.mp3\n",
      "converting muda20b.m4a at : D:\\Cool Yeah\\Semester 118\\Sample-kelapa\\data\\muda\\mp3\\muda20b.mp3\n",
      "converting muda20c.m4a at : D:\\Cool Yeah\\Semester 118\\Sample-kelapa\\data\\muda\\mp3\\muda20c.mp3\n",
      "converting muda2a.m4a at : D:\\Cool Yeah\\Semester 118\\Sample-kelapa\\data\\muda\\mp3\\muda2a.mp3\n",
      "converting muda2b.m4a at : D:\\Cool Yeah\\Semester 118\\Sample-kelapa\\data\\muda\\mp3\\muda2b.mp3\n",
      "converting muda2c.m4a at : D:\\Cool Yeah\\Semester 118\\Sample-kelapa\\data\\muda\\mp3\\muda2c.mp3\n",
      "converting muda3a.m4a at : D:\\Cool Yeah\\Semester 118\\Sample-kelapa\\data\\muda\\mp3\\muda3a.mp3\n",
      "converting muda3b.m4a at : D:\\Cool Yeah\\Semester 118\\Sample-kelapa\\data\\muda\\mp3\\muda3b.mp3\n",
      "converting muda3c.m4a at : D:\\Cool Yeah\\Semester 118\\Sample-kelapa\\data\\muda\\mp3\\muda3c.mp3\n",
      "converting muda4a.m4a at : D:\\Cool Yeah\\Semester 118\\Sample-kelapa\\data\\muda\\mp3\\muda4a.mp3\n",
      "converting muda4b.m4a at : D:\\Cool Yeah\\Semester 118\\Sample-kelapa\\data\\muda\\mp3\\muda4b.mp3\n",
      "converting muda4c.m4a at : D:\\Cool Yeah\\Semester 118\\Sample-kelapa\\data\\muda\\mp3\\muda4c.mp3\n",
      "converting muda5a.m4a at : D:\\Cool Yeah\\Semester 118\\Sample-kelapa\\data\\muda\\mp3\\muda5a.mp3\n",
      "converting muda5b.m4a at : D:\\Cool Yeah\\Semester 118\\Sample-kelapa\\data\\muda\\mp3\\muda5b.mp3\n",
      "converting muda5c.m4a at : D:\\Cool Yeah\\Semester 118\\Sample-kelapa\\data\\muda\\mp3\\muda5c.mp3\n",
      "converting muda6a.m4a at : D:\\Cool Yeah\\Semester 118\\Sample-kelapa\\data\\muda\\mp3\\muda6a.mp3\n",
      "converting muda6b.m4a at : D:\\Cool Yeah\\Semester 118\\Sample-kelapa\\data\\muda\\mp3\\muda6b.mp3\n",
      "converting muda6c.m4a at : D:\\Cool Yeah\\Semester 118\\Sample-kelapa\\data\\muda\\mp3\\muda6c.mp3\n",
      "converting muda7a.m4a at : D:\\Cool Yeah\\Semester 118\\Sample-kelapa\\data\\muda\\mp3\\muda7a.mp3\n",
      "converting muda7b.m4a at : D:\\Cool Yeah\\Semester 118\\Sample-kelapa\\data\\muda\\mp3\\muda7b.mp3\n",
      "converting muda7c.m4a at : D:\\Cool Yeah\\Semester 118\\Sample-kelapa\\data\\muda\\mp3\\muda7c.mp3\n",
      "converting muda8a.m4a at : D:\\Cool Yeah\\Semester 118\\Sample-kelapa\\data\\muda\\mp3\\muda8a.mp3\n",
      "converting muda8b.m4a at : D:\\Cool Yeah\\Semester 118\\Sample-kelapa\\data\\muda\\mp3\\muda8b.mp3\n",
      "converting muda8c.m4a at : D:\\Cool Yeah\\Semester 118\\Sample-kelapa\\data\\muda\\mp3\\muda8c.mp3\n",
      "converting muda9a.m4a at : D:\\Cool Yeah\\Semester 118\\Sample-kelapa\\data\\muda\\mp3\\muda9a.mp3\n",
      "converting muda9b.m4a at : D:\\Cool Yeah\\Semester 118\\Sample-kelapa\\data\\muda\\mp3\\muda9b.mp3\n",
      "converting muda9c.m4a at : D:\\Cool Yeah\\Semester 118\\Sample-kelapa\\data\\muda\\mp3\\muda9c.mp3\n"
     ]
    }
   ],
   "source": [
    "directory = input(\"Enter Directory\\t\\t\\t: \")\n",
    "os.chdir(rf\"{directory}\")\n",
    "listFile = os.listdir()\n",
    "newPath = os.path.join(directory, \"mp3\")\n",
    "try:\n",
    "    os.mkdir(newPath)\n",
    "except OSError as error:\n",
    "    print(f\"{error}\\n\")\n",
    "for file in listFile:\n",
    "    if len(file.split(\".\")) == 2 and file.split(\".\")[1] == \"m4a\":\n",
    "        # os.system(f\"ffmpeg -i {file} {file.split('.')[0]}.mp3\")\n",
    "        print(f\"converting {file} at : {newPath}\\{file.split('.')[0]}.mp3\")\n",
    "        os.system(f\"ffmpeg -i {file} {file.split('.')[0]}.mp3\")\n",
    "        os.rename(os.path.join(directory, f\"{file.split('.')[0]}.mp3\"), os.path.join(newPath, f\"{file.split('.')[0]}.mp3\"))"
   ]
  },
  {
   "cell_type": "code",
   "execution_count": 70,
   "metadata": {},
   "outputs": [
    {
     "name": "stdout",
     "output_type": "stream",
     "text": [
      "converting muda10_a.m4a at : D:\\Cool Yeah\\Semester 118\\Sample-kelapa\\raw sample\\Sample-kelapa-muda\\mp3\\muda10_a.mp3\n",
      "converting muda10_b.m4a at : D:\\Cool Yeah\\Semester 118\\Sample-kelapa\\raw sample\\Sample-kelapa-muda\\mp3\\muda10_b.mp3\n",
      "converting muda10_c.m4a at : D:\\Cool Yeah\\Semester 118\\Sample-kelapa\\raw sample\\Sample-kelapa-muda\\mp3\\muda10_c.mp3\n",
      "converting muda11_a.m4a at : D:\\Cool Yeah\\Semester 118\\Sample-kelapa\\raw sample\\Sample-kelapa-muda\\mp3\\muda11_a.mp3\n",
      "converting muda11_b.m4a at : D:\\Cool Yeah\\Semester 118\\Sample-kelapa\\raw sample\\Sample-kelapa-muda\\mp3\\muda11_b.mp3\n",
      "converting muda11_c.m4a at : D:\\Cool Yeah\\Semester 118\\Sample-kelapa\\raw sample\\Sample-kelapa-muda\\mp3\\muda11_c.mp3\n",
      "converting muda12_a.m4a at : D:\\Cool Yeah\\Semester 118\\Sample-kelapa\\raw sample\\Sample-kelapa-muda\\mp3\\muda12_a.mp3\n",
      "converting muda12_b.m4a at : D:\\Cool Yeah\\Semester 118\\Sample-kelapa\\raw sample\\Sample-kelapa-muda\\mp3\\muda12_b.mp3\n",
      "converting muda12_c.m4a at : D:\\Cool Yeah\\Semester 118\\Sample-kelapa\\raw sample\\Sample-kelapa-muda\\mp3\\muda12_c.mp3\n",
      "converting muda13_a.m4a at : D:\\Cool Yeah\\Semester 118\\Sample-kelapa\\raw sample\\Sample-kelapa-muda\\mp3\\muda13_a.mp3\n",
      "converting muda13_b.m4a at : D:\\Cool Yeah\\Semester 118\\Sample-kelapa\\raw sample\\Sample-kelapa-muda\\mp3\\muda13_b.mp3\n",
      "converting muda13_c.m4a at : D:\\Cool Yeah\\Semester 118\\Sample-kelapa\\raw sample\\Sample-kelapa-muda\\mp3\\muda13_c.mp3\n",
      "converting muda1_a.m4a at : D:\\Cool Yeah\\Semester 118\\Sample-kelapa\\raw sample\\Sample-kelapa-muda\\mp3\\muda1_a.mp3\n",
      "converting muda1_b.m4a at : D:\\Cool Yeah\\Semester 118\\Sample-kelapa\\raw sample\\Sample-kelapa-muda\\mp3\\muda1_b.mp3\n",
      "converting muda1_c.m4a at : D:\\Cool Yeah\\Semester 118\\Sample-kelapa\\raw sample\\Sample-kelapa-muda\\mp3\\muda1_c.mp3\n",
      "converting muda2_a.m4a at : D:\\Cool Yeah\\Semester 118\\Sample-kelapa\\raw sample\\Sample-kelapa-muda\\mp3\\muda2_a.mp3\n",
      "converting muda2_b.m4a at : D:\\Cool Yeah\\Semester 118\\Sample-kelapa\\raw sample\\Sample-kelapa-muda\\mp3\\muda2_b.mp3\n",
      "converting muda2_c.m4a at : D:\\Cool Yeah\\Semester 118\\Sample-kelapa\\raw sample\\Sample-kelapa-muda\\mp3\\muda2_c.mp3\n",
      "converting muda3_a.m4a at : D:\\Cool Yeah\\Semester 118\\Sample-kelapa\\raw sample\\Sample-kelapa-muda\\mp3\\muda3_a.mp3\n",
      "converting muda3_b.m4a at : D:\\Cool Yeah\\Semester 118\\Sample-kelapa\\raw sample\\Sample-kelapa-muda\\mp3\\muda3_b.mp3\n",
      "converting muda3_c.m4a at : D:\\Cool Yeah\\Semester 118\\Sample-kelapa\\raw sample\\Sample-kelapa-muda\\mp3\\muda3_c.mp3\n",
      "converting muda4_a.m4a at : D:\\Cool Yeah\\Semester 118\\Sample-kelapa\\raw sample\\Sample-kelapa-muda\\mp3\\muda4_a.mp3\n",
      "converting muda4_b.m4a at : D:\\Cool Yeah\\Semester 118\\Sample-kelapa\\raw sample\\Sample-kelapa-muda\\mp3\\muda4_b.mp3\n",
      "converting muda4_c.m4a at : D:\\Cool Yeah\\Semester 118\\Sample-kelapa\\raw sample\\Sample-kelapa-muda\\mp3\\muda4_c.mp3\n",
      "converting muda5_a.m4a at : D:\\Cool Yeah\\Semester 118\\Sample-kelapa\\raw sample\\Sample-kelapa-muda\\mp3\\muda5_a.mp3\n",
      "converting muda5_b.m4a at : D:\\Cool Yeah\\Semester 118\\Sample-kelapa\\raw sample\\Sample-kelapa-muda\\mp3\\muda5_b.mp3\n",
      "converting muda5_c.m4a at : D:\\Cool Yeah\\Semester 118\\Sample-kelapa\\raw sample\\Sample-kelapa-muda\\mp3\\muda5_c.mp3\n",
      "converting muda6_a.m4a at : D:\\Cool Yeah\\Semester 118\\Sample-kelapa\\raw sample\\Sample-kelapa-muda\\mp3\\muda6_a.mp3\n",
      "converting muda6_b.m4a at : D:\\Cool Yeah\\Semester 118\\Sample-kelapa\\raw sample\\Sample-kelapa-muda\\mp3\\muda6_b.mp3\n",
      "converting muda6_c.m4a at : D:\\Cool Yeah\\Semester 118\\Sample-kelapa\\raw sample\\Sample-kelapa-muda\\mp3\\muda6_c.mp3\n",
      "converting muda7_a.m4a at : D:\\Cool Yeah\\Semester 118\\Sample-kelapa\\raw sample\\Sample-kelapa-muda\\mp3\\muda7_a.mp3\n",
      "converting muda7_b.m4a at : D:\\Cool Yeah\\Semester 118\\Sample-kelapa\\raw sample\\Sample-kelapa-muda\\mp3\\muda7_b.mp3\n",
      "converting muda7_c.m4a at : D:\\Cool Yeah\\Semester 118\\Sample-kelapa\\raw sample\\Sample-kelapa-muda\\mp3\\muda7_c.mp3\n",
      "converting muda8_a.m4a at : D:\\Cool Yeah\\Semester 118\\Sample-kelapa\\raw sample\\Sample-kelapa-muda\\mp3\\muda8_a.mp3\n",
      "converting muda8_b.m4a at : D:\\Cool Yeah\\Semester 118\\Sample-kelapa\\raw sample\\Sample-kelapa-muda\\mp3\\muda8_b.mp3\n",
      "converting muda8_c.m4a at : D:\\Cool Yeah\\Semester 118\\Sample-kelapa\\raw sample\\Sample-kelapa-muda\\mp3\\muda8_c.mp3\n",
      "converting muda9_a.m4a at : D:\\Cool Yeah\\Semester 118\\Sample-kelapa\\raw sample\\Sample-kelapa-muda\\mp3\\muda9_a.mp3\n",
      "converting muda9_b.m4a at : D:\\Cool Yeah\\Semester 118\\Sample-kelapa\\raw sample\\Sample-kelapa-muda\\mp3\\muda9_b.mp3\n",
      "converting muda9_c.m4a at : D:\\Cool Yeah\\Semester 118\\Sample-kelapa\\raw sample\\Sample-kelapa-muda\\mp3\\muda9_c.mp3\n"
     ]
    }
   ],
   "source": [
    "directory = input(\"Enter Directory\\t\\t\\t: \")\n",
    "os.chdir(rf\"{directory}\")\n",
    "listFile = os.listdir()\n",
    "newPath = os.path.join(directory, \"mp3\")\n",
    "try:\n",
    "    os.mkdir(newPath)\n",
    "except OSError as error:\n",
    "    print(f\"{error}\\n\")\n",
    "for file in listFile:\n",
    "    if len(file.split(\".\")) == 2 and file.split(\".\")[1] == \"m4a\":\n",
    "        # os.system(f\"ffmpeg -i {file} {file.split('.')[0]}.mp3\")\n",
    "        print(f\"converting {file} at : {newPath}\\{file.split('.')[0]}.mp3\")\n",
    "        os.system(f\"ffmpeg -i {file} {file.split('.')[0]}.mp3\")\n",
    "        os.rename(os.path.join(directory, f\"{file.split('.')[0]}.mp3\"), os.path.join(newPath, f\"{file.split('.')[0]}.mp3\"))"
   ]
  },
  {
   "cell_type": "code",
   "execution_count": 71,
   "metadata": {},
   "outputs": [
    {
     "name": "stdout",
     "output_type": "stream",
     "text": [
      "converting tua10_a.m4a at : D:\\Cool Yeah\\Semester 118\\Sample-kelapa\\raw sample\\Sample-kelapa-tua\\mp3\\tua10_a.mp3\n",
      "converting tua10_b.m4a at : D:\\Cool Yeah\\Semester 118\\Sample-kelapa\\raw sample\\Sample-kelapa-tua\\mp3\\tua10_b.mp3\n",
      "converting tua10_c.m4a at : D:\\Cool Yeah\\Semester 118\\Sample-kelapa\\raw sample\\Sample-kelapa-tua\\mp3\\tua10_c.mp3\n",
      "converting tua11_a.m4a at : D:\\Cool Yeah\\Semester 118\\Sample-kelapa\\raw sample\\Sample-kelapa-tua\\mp3\\tua11_a.mp3\n",
      "converting tua11_b.m4a at : D:\\Cool Yeah\\Semester 118\\Sample-kelapa\\raw sample\\Sample-kelapa-tua\\mp3\\tua11_b.mp3\n",
      "converting tua11_c.m4a at : D:\\Cool Yeah\\Semester 118\\Sample-kelapa\\raw sample\\Sample-kelapa-tua\\mp3\\tua11_c.mp3\n",
      "converting tua12_a.m4a at : D:\\Cool Yeah\\Semester 118\\Sample-kelapa\\raw sample\\Sample-kelapa-tua\\mp3\\tua12_a.mp3\n",
      "converting tua12_b.m4a at : D:\\Cool Yeah\\Semester 118\\Sample-kelapa\\raw sample\\Sample-kelapa-tua\\mp3\\tua12_b.mp3\n",
      "converting tua12_c.m4a at : D:\\Cool Yeah\\Semester 118\\Sample-kelapa\\raw sample\\Sample-kelapa-tua\\mp3\\tua12_c.mp3\n",
      "converting tua13_a.m4a at : D:\\Cool Yeah\\Semester 118\\Sample-kelapa\\raw sample\\Sample-kelapa-tua\\mp3\\tua13_a.mp3\n",
      "converting tua13_b.m4a at : D:\\Cool Yeah\\Semester 118\\Sample-kelapa\\raw sample\\Sample-kelapa-tua\\mp3\\tua13_b.mp3\n",
      "converting tua13_c.m4a at : D:\\Cool Yeah\\Semester 118\\Sample-kelapa\\raw sample\\Sample-kelapa-tua\\mp3\\tua13_c.mp3\n",
      "converting tua14_a.m4a at : D:\\Cool Yeah\\Semester 118\\Sample-kelapa\\raw sample\\Sample-kelapa-tua\\mp3\\tua14_a.mp3\n",
      "converting tua14_b.m4a at : D:\\Cool Yeah\\Semester 118\\Sample-kelapa\\raw sample\\Sample-kelapa-tua\\mp3\\tua14_b.mp3\n",
      "converting tua14_c.m4a at : D:\\Cool Yeah\\Semester 118\\Sample-kelapa\\raw sample\\Sample-kelapa-tua\\mp3\\tua14_c.mp3\n",
      "converting tua15_a.m4a at : D:\\Cool Yeah\\Semester 118\\Sample-kelapa\\raw sample\\Sample-kelapa-tua\\mp3\\tua15_a.mp3\n",
      "converting tua15_b.m4a at : D:\\Cool Yeah\\Semester 118\\Sample-kelapa\\raw sample\\Sample-kelapa-tua\\mp3\\tua15_b.mp3\n",
      "converting tua15_c.m4a at : D:\\Cool Yeah\\Semester 118\\Sample-kelapa\\raw sample\\Sample-kelapa-tua\\mp3\\tua15_c.mp3\n",
      "converting tua16_a.m4a at : D:\\Cool Yeah\\Semester 118\\Sample-kelapa\\raw sample\\Sample-kelapa-tua\\mp3\\tua16_a.mp3\n",
      "converting tua16_b.m4a at : D:\\Cool Yeah\\Semester 118\\Sample-kelapa\\raw sample\\Sample-kelapa-tua\\mp3\\tua16_b.mp3\n",
      "converting tua16_c.m4a at : D:\\Cool Yeah\\Semester 118\\Sample-kelapa\\raw sample\\Sample-kelapa-tua\\mp3\\tua16_c.mp3\n",
      "converting tua17_a.m4a at : D:\\Cool Yeah\\Semester 118\\Sample-kelapa\\raw sample\\Sample-kelapa-tua\\mp3\\tua17_a.mp3\n",
      "converting tua17_b.m4a at : D:\\Cool Yeah\\Semester 118\\Sample-kelapa\\raw sample\\Sample-kelapa-tua\\mp3\\tua17_b.mp3\n",
      "converting tua17_c.m4a at : D:\\Cool Yeah\\Semester 118\\Sample-kelapa\\raw sample\\Sample-kelapa-tua\\mp3\\tua17_c.mp3\n",
      "converting tua18_a.m4a at : D:\\Cool Yeah\\Semester 118\\Sample-kelapa\\raw sample\\Sample-kelapa-tua\\mp3\\tua18_a.mp3\n",
      "converting tua18_b.m4a at : D:\\Cool Yeah\\Semester 118\\Sample-kelapa\\raw sample\\Sample-kelapa-tua\\mp3\\tua18_b.mp3\n",
      "converting tua18_c.m4a at : D:\\Cool Yeah\\Semester 118\\Sample-kelapa\\raw sample\\Sample-kelapa-tua\\mp3\\tua18_c.mp3\n",
      "converting tua19_a.m4a at : D:\\Cool Yeah\\Semester 118\\Sample-kelapa\\raw sample\\Sample-kelapa-tua\\mp3\\tua19_a.mp3\n",
      "converting tua19_b.m4a at : D:\\Cool Yeah\\Semester 118\\Sample-kelapa\\raw sample\\Sample-kelapa-tua\\mp3\\tua19_b.mp3\n",
      "converting tua19_c.m4a at : D:\\Cool Yeah\\Semester 118\\Sample-kelapa\\raw sample\\Sample-kelapa-tua\\mp3\\tua19_c.mp3\n",
      "converting tua1_a.m4a at : D:\\Cool Yeah\\Semester 118\\Sample-kelapa\\raw sample\\Sample-kelapa-tua\\mp3\\tua1_a.mp3\n",
      "converting tua1_b.m4a at : D:\\Cool Yeah\\Semester 118\\Sample-kelapa\\raw sample\\Sample-kelapa-tua\\mp3\\tua1_b.mp3\n",
      "converting tua1_c.m4a at : D:\\Cool Yeah\\Semester 118\\Sample-kelapa\\raw sample\\Sample-kelapa-tua\\mp3\\tua1_c.mp3\n",
      "converting tua2_a.m4a at : D:\\Cool Yeah\\Semester 118\\Sample-kelapa\\raw sample\\Sample-kelapa-tua\\mp3\\tua2_a.mp3\n",
      "converting tua2_b.m4a at : D:\\Cool Yeah\\Semester 118\\Sample-kelapa\\raw sample\\Sample-kelapa-tua\\mp3\\tua2_b.mp3\n",
      "converting tua2_c.m4a at : D:\\Cool Yeah\\Semester 118\\Sample-kelapa\\raw sample\\Sample-kelapa-tua\\mp3\\tua2_c.mp3\n",
      "converting tua3_a.m4a at : D:\\Cool Yeah\\Semester 118\\Sample-kelapa\\raw sample\\Sample-kelapa-tua\\mp3\\tua3_a.mp3\n",
      "converting tua3_b.m4a at : D:\\Cool Yeah\\Semester 118\\Sample-kelapa\\raw sample\\Sample-kelapa-tua\\mp3\\tua3_b.mp3\n",
      "converting tua3_c.m4a at : D:\\Cool Yeah\\Semester 118\\Sample-kelapa\\raw sample\\Sample-kelapa-tua\\mp3\\tua3_c.mp3\n",
      "converting tua4_a.m4a at : D:\\Cool Yeah\\Semester 118\\Sample-kelapa\\raw sample\\Sample-kelapa-tua\\mp3\\tua4_a.mp3\n",
      "converting tua4_b.m4a at : D:\\Cool Yeah\\Semester 118\\Sample-kelapa\\raw sample\\Sample-kelapa-tua\\mp3\\tua4_b.mp3\n",
      "converting tua4_c.m4a at : D:\\Cool Yeah\\Semester 118\\Sample-kelapa\\raw sample\\Sample-kelapa-tua\\mp3\\tua4_c.mp3\n",
      "converting tua5_a.m4a at : D:\\Cool Yeah\\Semester 118\\Sample-kelapa\\raw sample\\Sample-kelapa-tua\\mp3\\tua5_a.mp3\n",
      "converting tua5_b.m4a at : D:\\Cool Yeah\\Semester 118\\Sample-kelapa\\raw sample\\Sample-kelapa-tua\\mp3\\tua5_b.mp3\n",
      "converting tua5_c.m4a at : D:\\Cool Yeah\\Semester 118\\Sample-kelapa\\raw sample\\Sample-kelapa-tua\\mp3\\tua5_c.mp3\n",
      "converting tua6_a.m4a at : D:\\Cool Yeah\\Semester 118\\Sample-kelapa\\raw sample\\Sample-kelapa-tua\\mp3\\tua6_a.mp3\n",
      "converting tua6_b.m4a at : D:\\Cool Yeah\\Semester 118\\Sample-kelapa\\raw sample\\Sample-kelapa-tua\\mp3\\tua6_b.mp3\n",
      "converting tua6_c.m4a at : D:\\Cool Yeah\\Semester 118\\Sample-kelapa\\raw sample\\Sample-kelapa-tua\\mp3\\tua6_c.mp3\n",
      "converting tua7_a.m4a at : D:\\Cool Yeah\\Semester 118\\Sample-kelapa\\raw sample\\Sample-kelapa-tua\\mp3\\tua7_a.mp3\n",
      "converting tua7_b.m4a at : D:\\Cool Yeah\\Semester 118\\Sample-kelapa\\raw sample\\Sample-kelapa-tua\\mp3\\tua7_b.mp3\n",
      "converting tua7_c.m4a at : D:\\Cool Yeah\\Semester 118\\Sample-kelapa\\raw sample\\Sample-kelapa-tua\\mp3\\tua7_c.mp3\n",
      "converting tua8_a.m4a at : D:\\Cool Yeah\\Semester 118\\Sample-kelapa\\raw sample\\Sample-kelapa-tua\\mp3\\tua8_a.mp3\n",
      "converting tua8_b.m4a at : D:\\Cool Yeah\\Semester 118\\Sample-kelapa\\raw sample\\Sample-kelapa-tua\\mp3\\tua8_b.mp3\n",
      "converting tua8_c.m4a at : D:\\Cool Yeah\\Semester 118\\Sample-kelapa\\raw sample\\Sample-kelapa-tua\\mp3\\tua8_c.mp3\n",
      "converting tua9_a.m4a at : D:\\Cool Yeah\\Semester 118\\Sample-kelapa\\raw sample\\Sample-kelapa-tua\\mp3\\tua9_a.mp3\n",
      "converting tua9_b.m4a at : D:\\Cool Yeah\\Semester 118\\Sample-kelapa\\raw sample\\Sample-kelapa-tua\\mp3\\tua9_b.mp3\n",
      "converting tua9_c.m4a at : D:\\Cool Yeah\\Semester 118\\Sample-kelapa\\raw sample\\Sample-kelapa-tua\\mp3\\tua9_c.mp3\n"
     ]
    }
   ],
   "source": [
    "directory = input(\"Enter Directory\\t\\t\\t: \")\n",
    "os.chdir(rf\"{directory}\")\n",
    "listFile = os.listdir()\n",
    "newPath = os.path.join(directory, \"mp3\")\n",
    "try:\n",
    "    os.mkdir(newPath)\n",
    "except OSError as error:\n",
    "    print(f\"{error}\\n\")\n",
    "for file in listFile:\n",
    "    if len(file.split(\".\")) == 2 and file.split(\".\")[1] == \"m4a\":\n",
    "        print(f\"converting {file} at : {newPath}\\{file.split('.')[0]}.mp3\")\n",
    "        os.system(f\"ffmpeg -i {file} {file.split('.')[0]}.mp3\")\n",
    "        os.rename(os.path.join(directory, f\"{file.split('.')[0]}.mp3\"), os.path.join(newPath, f\"{file.split('.')[0]}.mp3\"))"
   ]
  }
 ],
 "metadata": {
  "kernelspec": {
   "display_name": "test-env",
   "language": "python",
   "name": "python3"
  },
  "language_info": {
   "codemirror_mode": {
    "name": "ipython",
    "version": 3
   },
   "file_extension": ".py",
   "mimetype": "text/x-python",
   "name": "python",
   "nbconvert_exporter": "python",
   "pygments_lexer": "ipython3",
   "version": "3.10.7"
  },
  "orig_nbformat": 4
 },
 "nbformat": 4,
 "nbformat_minor": 2
}
